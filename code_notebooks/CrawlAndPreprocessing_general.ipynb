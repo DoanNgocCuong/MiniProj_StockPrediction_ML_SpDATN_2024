{
 "cells": [
  {
   "cell_type": "code",
   "execution_count": null,
   "metadata": {},
   "outputs": [],
   "source": [
    "!pip install -U vnstock3"
   ]
  },
  {
   "cell_type": "code",
   "execution_count": 22,
   "metadata": {},
   "outputs": [
    {
     "name": "stderr",
     "output_type": "stream",
     "text": [
      "2024-10-23 23:46:43,166 - vnstock3.common.data.data_explorer - WARNING - Thông tin niêm yết & giao dịch sẽ được truy xuất từ TCBS\n"
     ]
    },
    {
     "name": "stdout",
     "output_type": "stream",
     "text": [
      "        time   open   high    low  close    volume\n",
      "0 2024-01-02  20.12  20.79  20.12  20.54  13896933\n",
      "1 2024-01-03  20.58  21.00  20.37  21.00   9817807\n",
      "2 2024-01-04  21.17  21.55  21.08  21.25  23605373\n",
      "3 2024-01-05  21.25  21.38  21.04  21.38   9282598\n",
      "4 2024-01-08  21.59  21.63  21.17  21.29  12398885\n"
     ]
    }
   ],
   "source": [
    "# from vnstock3 import Vnstock\n",
    "\n",
    "# stock = Vnstock().stock(symbol='ACB', source='VCI')\n",
    "# df = stock.quote.history(\n",
    "#     start='2024-01-01',\n",
    "#     end='2024-06-21',\n",
    "#     interval='1D'\n",
    "# )\n",
    "\n",
    "# # preview the first five rows\n",
    "# print(df.head())\n"
   ]
  },
  {
   "cell_type": "code",
   "execution_count": 28,
   "metadata": {},
   "outputs": [
    {
     "name": "stderr",
     "output_type": "stream",
     "text": [
      "2024-10-23 23:55:41,180 - vnstock3.common.data.data_explorer - WARNING - Thông tin niêm yết & giao dịch sẽ được truy xuất từ TCBS\n"
     ]
    },
    {
     "name": "stdout",
     "output_type": "stream",
     "text": [
      "Data saved to ../data/raw/fpt_stock_data.csv\n",
      "          time    open    high     low   close   volume\n",
      "0   2023-01-03   56.42   58.70   56.35   58.70  1538861\n",
      "1   2023-01-04   59.29   59.43   58.19   58.70   796544\n",
      "2   2023-01-05   58.85   59.80   58.85   59.14  1014719\n",
      "3   2023-01-06   58.99   59.51   58.85   58.92   721096\n",
      "4   2023-01-09   59.07   59.36   58.63   58.92   520315\n",
      "..         ...     ...     ...     ...     ...      ...\n",
      "445 2024-10-17  136.50  137.10  135.50  137.00  2579200\n",
      "446 2024-10-18  137.40  137.80  136.60  137.00  2169400\n",
      "447 2024-10-21  137.00  137.70  135.50  135.50  2681300\n",
      "448 2024-10-22  135.70  135.70  133.00  133.10  6009200\n",
      "449 2024-10-23  132.90  134.80  132.60  134.20  3015100\n",
      "\n",
      "[450 rows x 6 columns]\n"
     ]
    }
   ],
   "source": [
    "# # Importing the Vnstock class from vnstock3 and other necessary modules\n",
    "# from vnstock3 import Vnstock\n",
    "# import datetime\n",
    "# import pandas as pd\n",
    "# import os\n",
    "\n",
    "# # Create a Vnstock object and fetch historical stock data for FPT up to today\n",
    "# stock = Vnstock().stock(symbol='FPT', source='VCI',)\n",
    "\n",
    "# # Fetch historical stock data using the method from the stock object\n",
    "# fpt_stock_data = stock.quote.history(start='2023-01-01', end=datetime.datetime.now().strftime('%Y-%m-%d'))\n",
    "\n",
    "# # Ensure the directory exists before saving the data\n",
    "# os.makedirs('../data/raw', exist_ok=True) \n",
    "\n",
    "# # Save the fetched data to a CSV file in the data/raw directory\n",
    "# file_path = '../data/raw/fpt_stock_data.csv'\n",
    "# fpt_stock_data.to_csv(file_path, index=False)\n",
    "# print(f\"Data saved to {file_path}\")\n",
    "\n",
    "# # Display the fetched data in DataFrame format\n",
    "# print(fpt_stock_data)\n"
   ]
  },
  {
   "cell_type": "markdown",
   "metadata": {},
   "source": [
    "\n",
    "Giải thích code\n",
    "```python\n",
    "\n",
    "# Đảm bảo thư mục tồn tại trước khi lưu dữ liệu\n",
    "# '.' : Thư mục hiện tại (current directory)\n",
    "# '..' : Thư mục cha/thư mục trên một cấp (parent directory)\n",
    "# Ví dụ: \n",
    "# - Nếu bạn đang ở '/code_notebooks', thì '..' sẽ trỏ đến thư mục gốc của project\n",
    "# - '../data/raw' nghĩa là: đi ra thư mục cha, sau đó vào thư mục 'data', rồi vào thư mục 'raw'\n",
    "os.makedirs('../data/raw', exist_ok=True) \n",
    "\n",
    "# Lưu dữ liệu vào file CSV trong thư mục data/raw\n",
    "# '../data/raw/fpt_stock_data1.csv' là đường dẫn tương đối:\n",
    "# - Đi ra khỏi thư mục hiện tại ('..')\n",
    "# - Vào thư mục data\n",
    "# - Vào thư mục raw\n",
    "# - Tạo/ghi file 'fpt_stock_data1.csv'\n",
    "file_path = '../data/raw/fpt_stock_data1.csv'\n",
    "```"
   ]
  },
  {
   "cell_type": "markdown",
   "metadata": {},
   "source": [
    "Xem thêm workflow tại: https://vnstocks.com/docs/huong-dan/recipe-template-workflow-mau-ung-dung"
   ]
  },
  {
   "cell_type": "markdown",
   "metadata": {},
   "source": [
    "- So sánh kết quả xài vnstock3 với kết quả xài yfinance: tại: https://finance.yahoo.com/quote/FPT.VN/history/\n",
    "- So sánh 2 đoạn này, tại sao là cùng 1 chỉ số chứng khoán mà cái số này gấp số kia 1000 lần? \n",
    "\n",
    "```\n",
    "Nguyên nhân:\n",
    "Đơn vị: Code xài vnstock3 có thể đang sử dụng đơn vị là \"đồng\" (hoặc \"VND\") trong khi đoạn đầu tiên có thể đang sử dụng đơn vị là \"nghìn đồng\". Điều này có nghĩa là giá trị trong đoạn thứ hai là giá trị thực tế của cổ phiếu được nhân với 1000.\n",
    "```\n",
    "\n",
    "- Volumn là cái gì, mà sao không trùng với trên web: @https://finance.yahoo.com/quote/FPT.VN/history/ \n",
    "```\n",
    "**Volume** (khối lượng giao dịch) là số lượng cổ phiếu được giao dịch trong một khoảng thời gian nhất định, thường là trong một ngày. Nó cho biết mức độ hoạt động của cổ phiếu trong thị trường. \n",
    "\n",
    "### Tại sao khối lượng không trùng với trên web?\n",
    "Có một số lý do có thể giải thích cho sự khác biệt giữa khối lượng giao dịch trong dữ liệu của bạn và trên trang web như Yahoo Finance:\n",
    "\n",
    "1. **Thời gian cập nhật**: Dữ liệu trên các nền tảng khác nhau có thể được cập nhật vào những thời điểm khác nhau. Nếu bạn xem dữ liệu trên Yahoo Finance, có thể nó chưa được cập nhật ngay lập tức.\n",
    "\n",
    "2. **Nguồn dữ liệu khác nhau**: Các nền tảng có thể sử dụng các nguồn dữ liệu khác nhau để thu thập thông tin về khối lượng giao dịch. Điều này có thể dẫn đến sự khác biệt trong số liệu.\n",
    "\n",
    "3. **Đơn vị đo lường**: Đôi khi, khối lượng có thể được ghi nhận theo các đơn vị khác nhau (ví dụ: số lượng cổ phiếu so với số lượng giao dịch).\n",
    "\n",
    "4. **Lỗi trong dữ liệu**: Có thể có lỗi trong việc thu thập hoặc ghi nhận dữ liệu từ một trong hai nguồn.\n",
    "\n",
    "### Kết luận\n",
    "Để có thông tin chính xác, bạn nên kiểm tra lại dữ liệu từ nhiều nguồn khác nhau và xem xét thời gian cập nhật của chúng. Nếu cần thiết, bạn có thể liên hệ với nhà cung cấp dữ liệu để làm rõ sự khác biệt.\n",
    "```"
   ]
  },
  {
   "cell_type": "code",
   "execution_count": 1,
   "metadata": {},
   "outputs": [
    {
     "name": "stderr",
     "output_type": "stream",
     "text": [
      "2024-10-24 00:05:47,568 - vnstock3.common.data.data_explorer - WARNING - Thông tin niêm yết & giao dịch sẽ được truy xuất từ TCBS\n"
     ]
    },
    {
     "name": "stdout",
     "output_type": "stream",
     "text": [
      "Data saved to ../data/raw/fpt_stock_data.csv\n",
      "          time      open      high       low     close   volume\n",
      "0   2023-01-03   56420.0   58700.0   56350.0   58700.0  1538861\n",
      "1   2023-01-04   59290.0   59430.0   58190.0   58700.0   796544\n",
      "2   2023-01-05   58850.0   59800.0   58850.0   59140.0  1014719\n",
      "3   2023-01-06   58990.0   59510.0   58850.0   58920.0   721096\n",
      "4   2023-01-09   59070.0   59360.0   58630.0   58920.0   520315\n",
      "..         ...       ...       ...       ...       ...      ...\n",
      "445 2024-10-17  136500.0  137100.0  135500.0  137000.0  2579200\n",
      "446 2024-10-18  137400.0  137800.0  136600.0  137000.0  2169400\n",
      "447 2024-10-21  137000.0  137700.0  135500.0  135500.0  2681300\n",
      "448 2024-10-22  135700.0  135700.0  133000.0  133100.0  6009200\n",
      "449 2024-10-23  132900.0  134800.0  132600.0  134200.0  3015100\n",
      "\n",
      "[450 rows x 6 columns]\n"
     ]
    }
   ],
   "source": [
    "# Importing the Vnstock class from vnstock3 and other necessary modules\n",
    "from vnstock3 import Vnstock\n",
    "import datetime\n",
    "import pandas as pd\n",
    "import os\n",
    "\n",
    "# Create a Vnstock object and fetch historical stock data for FPT up to today\n",
    "stock = Vnstock().stock(symbol='FPT', source='VCI',)\n",
    "\n",
    "# Fetch historical stock data using the method from the stock object\n",
    "fpt_stock_data = stock.quote.history(start='2023-01-01', end=datetime.datetime.now().strftime('%Y-%m-%d'))\n",
    "\n",
    "# Multiply the values in the 'open', 'high', 'low', 'close' columns by 1000\n",
    "fpt_stock_data['open'] *= 1000\n",
    "fpt_stock_data['high'] *= 1000\n",
    "fpt_stock_data['low'] *= 1000\n",
    "fpt_stock_data['close'] *= 1000\n",
    "\n",
    "# Ensure the directory exists before saving the data\n",
    "os.makedirs('../data/raw', exist_ok=True) \n",
    "\n",
    "# Save the fetched data to a CSV file in the data/raw directory\n",
    "file_path = '../data/raw/fpt_stock_data.csv'\n",
    "fpt_stock_data.to_csv(file_path, index=False)\n",
    "print(f\"Data saved to {file_path}\")\n",
    "\n",
    "# Display the fetched data in DataFrame format\n",
    "print(fpt_stock_data)\n"
   ]
  },
  {
   "cell_type": "markdown",
   "metadata": {},
   "source": [
    "### Đóng gói thành hàm và run hàm loạt: \n",
    "\n",
    "Crawl and Pre-Processing (*1000 ở mỗi cột để chuyển từ nghìn đồng về đồng) + với xem xét sự khác nhau của Volumn\n",
    "\n",
    "- FPT.VN: https://finance.yahoo.com/quote/FPT.VN/history/\n",
    "- CMG.VN: https://finance.yahoo.com/quote/CMG.VN/history/"
   ]
  },
  {
   "cell_type": "code",
   "execution_count": null,
   "metadata": {},
   "outputs": [],
   "source": [
    "!"
   ]
  },
  {
   "cell_type": "code",
   "execution_count": 5,
   "metadata": {},
   "outputs": [
    {
     "name": "stderr",
     "output_type": "stream",
     "text": [
      "2024-10-24 00:11:18,817 - vnstock3.common.data.data_explorer - WARNING - Thông tin niêm yết & giao dịch sẽ được truy xuất từ TCBS\n",
      "2024-10-24 00:11:19,196 - vnstock3.common.data.data_explorer - WARNING - Thông tin niêm yết & giao dịch sẽ được truy xuất từ TCBS\n"
     ]
    },
    {
     "name": "stdout",
     "output_type": "stream",
     "text": [
      "Data saved to ../data/raw/FPT_stock_data.csv\n",
      "        time     open     high      low    close   volume\n",
      "0 2023-01-03  56420.0  58700.0  56350.0  58700.0  1538861\n",
      "1 2023-01-04  59290.0  59430.0  58190.0  58700.0   796544\n",
      "2 2023-01-05  58850.0  59800.0  58850.0  59140.0  1014719\n",
      "3 2023-01-06  58990.0  59510.0  58850.0  58920.0   721096\n",
      "4 2023-01-09  59070.0  59360.0  58630.0  58920.0   520315\n"
     ]
    },
    {
     "name": "stderr",
     "output_type": "stream",
     "text": [
      "2024-10-24 00:11:19,557 - vnstock3.common.data.data_explorer - WARNING - Thông tin niêm yết & giao dịch sẽ được truy xuất từ TCBS\n"
     ]
    },
    {
     "name": "stdout",
     "output_type": "stream",
     "text": [
      "Data saved to ../data/raw/VGI_stock_data.csv\n",
      "        time     open     high      low    close   volume\n",
      "0 2023-01-03  20000.0  21400.0  20000.0  21300.0   564631\n",
      "1 2023-01-04  21300.0  22500.0  21300.0  21900.0   888298\n",
      "2 2023-01-05  22000.0  22200.0  21300.0  21800.0   494294\n",
      "3 2023-01-06  21600.0  22500.0  21300.0  21700.0  1135778\n",
      "4 2023-01-09  21800.0  22000.0  21400.0  21600.0   289086\n"
     ]
    },
    {
     "name": "stderr",
     "output_type": "stream",
     "text": [
      "2024-10-24 00:11:19,886 - vnstock3.common.data.data_explorer - WARNING - Thông tin niêm yết & giao dịch sẽ được truy xuất từ TCBS\n"
     ]
    },
    {
     "name": "stdout",
     "output_type": "stream",
     "text": [
      "Data saved to ../data/raw/CMG_stock_data.csv\n",
      "        time     open     high      low    close  volume\n",
      "0 2023-01-03  30520.0  32480.0  30520.0  32480.0   75133\n",
      "1 2023-01-04  32830.0  32830.0  30210.0  32160.0   40935\n",
      "2 2023-01-05  32050.0  32240.0  31460.0  32240.0   62931\n",
      "3 2023-01-06  32480.0  32480.0  31070.0  32050.0   39987\n",
      "4 2023-01-09  32010.0  32010.0  30360.0  31300.0   78634\n"
     ]
    },
    {
     "name": "stderr",
     "output_type": "stream",
     "text": [
      "2024-10-24 00:11:20,245 - vnstock3.common.data.data_explorer - WARNING - Thông tin niêm yết & giao dịch sẽ được truy xuất từ TCBS\n"
     ]
    },
    {
     "name": "stdout",
     "output_type": "stream",
     "text": [
      "Data saved to ../data/raw/DGW_stock_data.csv\n",
      "        time     open     high      low    close  volume\n",
      "0 2023-01-03  28510.0  30010.0  28510.0  30010.0  736880\n",
      "1 2023-01-04  30390.0  30610.0  29940.0  30090.0  515960\n",
      "2 2023-01-05  30610.0  30610.0  29600.0  29670.0  389474\n",
      "3 2023-01-06  29710.0  29860.0  28510.0  28810.0  695589\n",
      "4 2023-01-09  29260.0  29300.0  28510.0  28960.0  401677\n"
     ]
    },
    {
     "name": "stderr",
     "output_type": "stream",
     "text": [
      "2024-10-24 00:11:20,567 - vnstock3.common.data.data_explorer - WARNING - Thông tin niêm yết & giao dịch sẽ được truy xuất từ TCBS\n"
     ]
    },
    {
     "name": "stdout",
     "output_type": "stream",
     "text": [
      "Data saved to ../data/raw/SAM_stock_data.csv\n",
      "        time    open    high     low   close  volume\n",
      "0 2023-01-03  5920.0  6280.0  5920.0  6250.0  719104\n",
      "1 2023-01-04  6310.0  6340.0  6170.0  6170.0  416653\n",
      "2 2023-01-05  6170.0  6200.0  6090.0  6120.0  359801\n",
      "3 2023-01-06  6130.0  6150.0  5960.0  5980.0  607595\n",
      "4 2023-01-09  6010.0  6050.0  5880.0  5880.0  291205\n"
     ]
    },
    {
     "name": "stderr",
     "output_type": "stream",
     "text": [
      "2024-10-24 00:11:20,894 - vnstock3.common.data.data_explorer - WARNING - Thông tin niêm yết & giao dịch sẽ được truy xuất từ TCBS\n"
     ]
    },
    {
     "name": "stdout",
     "output_type": "stream",
     "text": [
      "Data saved to ../data/raw/CMT_stock_data.csv\n",
      "        time     open     high      low    close  volume\n",
      "0 2023-01-03  11290.0  11290.0  11110.0  11200.0    7400\n",
      "1 2023-01-04  11660.0  11660.0  11660.0  11660.0     500\n",
      "2 2023-01-05  11660.0  11660.0  11660.0  11660.0       0\n",
      "3 2023-01-06  11480.0  11480.0  10360.0  10360.0    3000\n",
      "4 2023-01-09  11660.0  11660.0  11660.0  11660.0     100\n"
     ]
    },
    {
     "name": "stderr",
     "output_type": "stream",
     "text": [
      "2024-10-24 00:11:21,173 - vnstock3.common.data.data_explorer - WARNING - Thông tin niêm yết & giao dịch sẽ được truy xuất từ TCBS\n"
     ]
    },
    {
     "name": "stdout",
     "output_type": "stream",
     "text": [
      "Data saved to ../data/raw/ELC_stock_data.csv\n",
      "        time    open    high     low   close  volume\n",
      "0 2023-01-03  7140.0  7320.0  6930.0  7320.0  208274\n",
      "1 2023-01-04  7320.0  7360.0  7110.0  7250.0  115361\n",
      "2 2023-01-05  7180.0  7750.0  7180.0  7710.0  410324\n",
      "3 2023-01-06  7750.0  7890.0  7430.0  7710.0  196294\n",
      "4 2023-01-09  7790.0  7820.0  7360.0  7360.0   95260\n"
     ]
    },
    {
     "name": "stderr",
     "output_type": "stream",
     "text": [
      "2024-10-24 00:11:21,504 - vnstock3.common.data.data_explorer - WARNING - Thông tin niêm yết & giao dịch sẽ được truy xuất từ TCBS\n"
     ]
    },
    {
     "name": "stdout",
     "output_type": "stream",
     "text": [
      "Data saved to ../data/raw/VTP_stock_data.csv\n",
      "        time     open     high      low    close  volume\n",
      "0 2023-01-03  23800.0  25570.0  23620.0  25130.0  393605\n",
      "1 2023-01-04  24690.0  25570.0  24690.0  24860.0  249090\n",
      "2 2023-01-05  24860.0  24860.0  24240.0  24420.0  180432\n",
      "3 2023-01-06  24510.0  24600.0  23710.0  23890.0  225469\n",
      "4 2023-01-09  23980.0  24240.0  23710.0  23800.0  119795\n"
     ]
    },
    {
     "name": "stderr",
     "output_type": "stream",
     "text": [
      "2024-10-24 00:11:21,889 - vnstock3.common.data.data_explorer - WARNING - Thông tin niêm yết & giao dịch sẽ được truy xuất từ TCBS\n"
     ]
    },
    {
     "name": "stdout",
     "output_type": "stream",
     "text": [
      "Data saved to ../data/raw/VGC_stock_data.csv\n",
      "        time     open     high      low    close   volume\n",
      "0 2023-01-03  31440.0  33530.0  31440.0  33530.0  1404091\n",
      "1 2023-01-04  33670.0  34870.0  32690.0  33390.0  1032158\n",
      "2 2023-01-05  33570.0  34870.0  33570.0  34870.0  1304600\n",
      "3 2023-01-06  35010.0  35890.0  33670.0  34310.0  1195351\n",
      "4 2023-01-09  34780.0  34780.0  33390.0  33390.0   588114\n",
      "Data saved to ../data/raw/VTL_stock_data.csv\n",
      "        time     open     high      low    close  volume\n",
      "0 2023-01-03  15300.0  15300.0  15300.0  15300.0       0\n",
      "1 2023-01-04  15300.0  15300.0  15300.0  15300.0       0\n",
      "2 2023-01-05  15300.0  15300.0  15300.0  15300.0       0\n",
      "3 2023-01-06  15300.0  15300.0  15300.0  15300.0       0\n",
      "4 2023-01-09  15300.0  15300.0  15300.0  15300.0       0\n"
     ]
    }
   ],
   "source": [
    "from vnstock3 import Vnstock\n",
    "import datetime\n",
    "import pandas as pd\n",
    "import os\n",
    "\n",
    "\n",
    "\n",
    "# Define a function to fetch and save stock data for each company\n",
    "def fetch_and_save_stock_data(symbol, start, end):\n",
    "    # Create a Vnstock object and fetch historical stock data\n",
    "    stock = Vnstock().stock(symbol=symbol, source='VCI')\n",
    "\n",
    "    # Fetch historical stock data using the method from the stock object\n",
    "    stock_data = stock.quote.history(start=start, end=end)\n",
    "\n",
    "    # Multiply the values in the 'open', 'high', 'low', 'close' columns by 1000\n",
    "    stock_data['open'] *= 1000\n",
    "    stock_data['high'] *= 1000\n",
    "    stock_data['low'] *= 1000\n",
    "    stock_data['close'] *= 1000\n",
    "\n",
    "    # Ensure the directory exists before saving the data\n",
    "    os.makedirs('../data/raw', exist_ok=True) \n",
    "\n",
    "    # Save the fetched data to a CSV file in the data/raw directory\n",
    "    file_path = f'../data/raw/{symbol}_stock_data.csv'\n",
    "    stock_data.to_csv(file_path, index=False)\n",
    "    print(f\"Data saved to {file_path}\")\n",
    "\n",
    "    # Display the fetched data in DataFrame format\n",
    "    print(stock_data.head())  # Display only the first few rows\n",
    "\n",
    "\n",
    "# List of 10 IT companies with their stock symbols\n",
    "company_symbols = ['FPT', 'VGI', 'CMG', 'DGW', 'SAM', 'CMT', 'ELC', 'VTP', 'VGC', 'VTL']\n",
    "\n",
    "# Fetch stock data for multiple companies\n",
    "start_date = '2023-01-01'\n",
    "end_date = datetime.datetime.now().strftime('%Y-%m-%d')\n",
    "\n",
    "for symbol in company_symbols:\n",
    "    fetch_and_save_stock_data(symbol, start_date, end_date)\n"
   ]
  }
 ],
 "metadata": {
  "kernelspec": {
   "display_name": "Python 3",
   "language": "python",
   "name": "python3"
  },
  "language_info": {
   "codemirror_mode": {
    "name": "ipython",
    "version": 3
   },
   "file_extension": ".py",
   "mimetype": "text/x-python",
   "name": "python",
   "nbconvert_exporter": "python",
   "pygments_lexer": "ipython3",
   "version": "3.12.7"
  }
 },
 "nbformat": 4,
 "nbformat_minor": 2
}
